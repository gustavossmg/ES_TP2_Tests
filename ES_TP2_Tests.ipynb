{
 "cells": [
  {
   "cell_type": "code",
   "execution_count": 1,
   "id": "freelance-particular",
   "metadata": {},
   "outputs": [],
   "source": [
    "import numpy as np\n",
    "import unittest"
   ]
  },
  {
   "cell_type": "code",
   "execution_count": 2,
   "id": "exceptional-shade",
   "metadata": {},
   "outputs": [],
   "source": [
    "class aminTest(unittest.TestCase):\n",
    "    def test_amin(self):\n",
    "        A = [12, 29, 87, 9, 0, -65, 43]\n",
    "        self.assertEqual(np.amin(A), -65)"
   ]
  },
  {
   "cell_type": "code",
   "execution_count": 3,
   "id": "smart-palace",
   "metadata": {},
   "outputs": [],
   "source": [
    "class amaxTest(unittest.TestCase):\n",
    "    def test_amax(self):\n",
    "        A = [12, 29, 87, 9, 0, -65, 43]\n",
    "        self.assertEqual(np.amax(A), 87)"
   ]
  },
  {
   "cell_type": "code",
   "execution_count": 4,
   "id": "spectacular-bridge",
   "metadata": {},
   "outputs": [],
   "source": [
    "class percentileTest(unittest.TestCase):\n",
    "    def test_percentile(self):\n",
    "        A = [0, 1, 2, 4, 5, 12, 67, 88, 92]\n",
    "        self.assertEqual(np.percentile(A, 50), 5)       "
   ]
  },
  {
   "cell_type": "code",
   "execution_count": 5,
   "id": "opened-preview",
   "metadata": {},
   "outputs": [],
   "source": [
    "class medianTest(unittest.TestCase):\n",
    "    def test_median(self):\n",
    "        A = [101, 89, -5, 0, 9, 65, -12, -287, 36, 78]\n",
    "        self.assertEqual(np.median(A), 22.5)"
   ]
  },
  {
   "cell_type": "code",
   "execution_count": 6,
   "id": "curious-profile",
   "metadata": {},
   "outputs": [],
   "source": [
    "class meanTest(unittest.TestCase):\n",
    "    def test_mean(self):\n",
    "        A = [101, 89, -5, 0, 9, 65, -12, -287, 36, 78]\n",
    "        self.assertEqual(np.mean(A), 7.4)"
   ]
  },
  {
   "cell_type": "code",
   "execution_count": 7,
   "id": "pretty-shark",
   "metadata": {},
   "outputs": [],
   "source": [
    "class stdTest(unittest.TestCase):\n",
    "    def test_std(self):\n",
    "        A = [1, 2, 3, 4]\n",
    "        self.assertEqual(np.std(A), 1.1180339887498949)"
   ]
  },
  {
   "cell_type": "code",
   "execution_count": 8,
   "id": "returning-illustration",
   "metadata": {},
   "outputs": [],
   "source": [
    "class varTest(unittest.TestCase):\n",
    "    def test_var(self):\n",
    "        A = [1, 2, 3, 4]\n",
    "        self.assertEqual(np.var(A), 1.25)"
   ]
  },
  {
   "cell_type": "code",
   "execution_count": 9,
   "id": "orange-living",
   "metadata": {},
   "outputs": [],
   "source": [
    "class sortTest(unittest.TestCase):\n",
    "    def test_sort(self):\n",
    "        A = [3, 1, 0, 2, 4]\n",
    "        B = [0, 1, 2, 3, 4]\n",
    "        self.assertTrue((np.sort(A) == B).all())"
   ]
  },
  {
   "cell_type": "code",
   "execution_count": 10,
   "id": "voluntary-blame",
   "metadata": {
    "scrolled": true
   },
   "outputs": [
    {
     "name": "stderr",
     "output_type": "stream",
     "text": [
      "........\n",
      "----------------------------------------------------------------------\n",
      "Ran 8 tests in 0.028s\n",
      "\n",
      "OK\n"
     ]
    }
   ],
   "source": [
    "if __name__ == '__main__':\n",
    "    unittest.main(argv=['first-arg-is-ignored'], exit=False)"
   ]
  }
 ],
 "metadata": {
  "kernelspec": {
   "display_name": "Python 3",
   "language": "python",
   "name": "python3"
  },
  "language_info": {
   "codemirror_mode": {
    "name": "ipython",
    "version": 3
   },
   "file_extension": ".py",
   "mimetype": "text/x-python",
   "name": "python",
   "nbconvert_exporter": "python",
   "pygments_lexer": "ipython3",
   "version": "3.6.12"
  }
 },
 "nbformat": 4,
 "nbformat_minor": 5
}
